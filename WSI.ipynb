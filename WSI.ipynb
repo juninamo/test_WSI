{
 "cells": [
  {
   "cell_type": "code",
   "execution_count": 98,
   "id": "6c635de6-46de-4cab-93dc-55cd9d28e57c",
   "metadata": {},
   "outputs": [],
   "source": [
    "# at home directory\n",
    "## conda create -n test_env pip python\n",
    "## conda activate test_env\n",
    "## conda install notebook ipykernel\n",
    "## mkdir ~/scanpy_tutrial\n",
    "## cd ~/scanpy_tutrial/\n",
    "## wget https://cf.10xgenomics.com/samples/cell-exp/1.1.0/frozen_pbmc_donor_a/frozen_pbmc_donor_a_filtered_gene_bc_matrices.tar.gz\n",
    "## jupyter notebook\n",
    "\n",
    "\n",
    "# pip install scanpy\n",
    "# pip install pipenv\n",
    "# pip install python-igraph louvain\n",
    "# pip install bbknn"
   ]
  },
  {
   "cell_type": "code",
   "execution_count": 99,
   "id": "aa20f457-1722-4afd-8562-252986208760",
   "metadata": {},
   "outputs": [
    {
     "name": "stdout",
     "output_type": "stream",
     "text": [
      "Scipy:  1.8.0\n",
      "Numpy:  1.21.5\n",
      "Pandas:  1.4.1\n",
      "Scanpy:  1.8.2\n",
      "Matplotlib:  3.5.1\n",
      "Seaborn:  0.11.2\n",
      "Python 3.9.7\n"
     ]
    }
   ],
   "source": [
    "import os\n",
    "import scipy.io\n",
    "import numpy as np\n",
    "import pandas as pd\n",
    "import scanpy as sc\n",
    "import matplotlib\n",
    "import matplotlib.pyplot as plt\n",
    "import seaborn as sns\n",
    "\n",
    "print('Scipy: ', scipy.__version__)\n",
    "print('Numpy: ', np.__version__)\n",
    "print('Pandas: ', pd.__version__)\n",
    "print('Scanpy: ', sc.__version__)\n",
    "print('Matplotlib: ', matplotlib.__version__)\n",
    "print('Seaborn: ', sns.__version__)\n",
    "\n",
    "\n",
    "# settings for image output\n",
    "sns.set(style=\"whitegrid\")\n",
    "matplotlib.rcParams[\"figure.dpi\"]=200\n",
    "\n",
    "!python --version"
   ]
  },
  {
   "cell_type": "code",
   "execution_count": 200,
   "id": "d243e14e-43a6-4b26-ab17-694f2b2fed99",
   "metadata": {},
   "outputs": [],
   "source": [
    "sc.settings.verbosity = 1             # verbosity: errors (0), warnings (1), info (2), hints (3)\n",
    "sc.settings.set_figure_params(dpi=80, frameon=False, figsize=(5, 4), facecolor='white')"
   ]
  },
  {
   "cell_type": "markdown",
   "id": "a3721bea-28c8-4ea9-9843-98a18c88fa3f",
   "metadata": {},
   "source": [
    "__Frozen PBMCs (Donor A), Cell Ranger 1.1.0 dataset available at 10x Genomics__"
   ]
  },
  {
   "cell_type": "code",
   "execution_count": 101,
   "id": "9d02e783-9ee6-4bfc-80dd-ab7d24ba5718",
   "metadata": {},
   "outputs": [
    {
     "name": "stdout",
     "output_type": "stream",
     "text": [
      "barcodes.tsv genes.tsv    matrix.mtx\n"
     ]
    }
   ],
   "source": [
    "!ls ../data/filtered_matrices_mex/hg19\n",
    "\n",
    "# barcodes: label for each cell\n",
    "# features: information of quantified genes\n",
    "# matrix.mtx: expression data\n",
    "\n",
    "## Frozen PBMCs (Donor A)\n",
    "## Single Cell Gene Expression Dataset by Cell Ranger 1.1.0\n",
    "## ~2,900 cells detected\n",
    "## Sequenced on Illumina NextSeq 500 High Output with ~25,000 reads per cell\n",
    "## 98bp read1 (transcript), 8bp I5 sample barcode, 14bp I7 GemCode barcode and 5bp read2 (UMI)\n",
    "## Analysis run with --cells=3000"
   ]
  },
  {
   "cell_type": "code",
   "execution_count": 102,
   "id": "d1f8ee27-b270-475d-96ad-ab6cf28101af",
   "metadata": {},
   "outputs": [],
   "source": [
    "adata = sc.read_10x_mtx(\n",
    "        '../data/filtered_matrices_mex/hg19/', \n",
    "        var_names='gene_symbols',\n",
    "        cache=True)"
   ]
  }
 ],
 "metadata": {
  "kernelspec": {
   "display_name": "test_env",
   "language": "python",
   "name": "test_env"
  },
  "language_info": {
   "codemirror_mode": {
    "name": "ipython",
    "version": 3
   },
   "file_extension": ".py",
   "mimetype": "text/x-python",
   "name": "python",
   "nbconvert_exporter": "python",
   "pygments_lexer": "ipython3",
   "version": "3.10.0"
  }
 },
 "nbformat": 4,
 "nbformat_minor": 5
}
